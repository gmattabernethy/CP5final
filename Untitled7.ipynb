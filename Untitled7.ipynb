{
  "nbformat": 4,
  "nbformat_minor": 0,
  "metadata": {
    "colab": {
      "provenance": [],
      "authorship_tag": "ABX9TyMGld/4Eh04d/Aft6dMnt5q",
      "include_colab_link": true
    },
    "kernelspec": {
      "name": "python3",
      "display_name": "Python 3"
    },
    "language_info": {
      "name": "python"
    }
  },
  "cells": [
    {
      "cell_type": "markdown",
      "metadata": {
        "id": "view-in-github",
        "colab_type": "text"
      },
      "source": [
        "<a href=\"https://colab.research.google.com/github/gmattabernethy/CP5final/blob/master/Untitled7.ipynb\" target=\"_parent\"><img src=\"https://colab.research.google.com/assets/colab-badge.svg\" alt=\"Open In Colab\"/></a>"
      ]
    },
    {
      "cell_type": "code",
      "execution_count": 1,
      "metadata": {
        "colab": {
          "base_uri": "https://localhost:8080/"
        },
        "id": "ylfQSxR1NFnm",
        "outputId": "af0a6350-0e5a-4c27-b636-f7ed4fbf8cff"
      },
      "outputs": [
        {
          "name": "stdout",
          "output_type": "stream",
          "text": [
            "Enter a string: aab\n"
          ]
        }
      ],
      "source": [
        "str = input(\"Enter a string: \")\n",
        "letters = list(str)"
      ]
    },
    {
      "cell_type": "code",
      "source": [
        "def first_implementation(letters): # recursive, simple but time scales poorly\n",
        "  if len(letters) <= 1:\n",
        "        return [letters]\n",
        "\n",
        "  result = set()\n",
        "  for i, char in enumerate(letters):\n",
        "      remaining = letters[:i] + letters[i+1:]\n",
        "      for perm in first_implementation(remaining):\n",
        "          result.add(char + ''.join(perm))\n",
        "\n",
        "  return result"
      ],
      "metadata": {
        "id": "7AksfLdMPtOX"
      },
      "execution_count": 30,
      "outputs": []
    },
    {
      "cell_type": "code",
      "source": [
        "def second_implementation(letters): #iterative, should scale better\n",
        "  n = len(letters)\n",
        "  result = set()\n",
        "  result.add(''.join(letters))\n",
        "\n",
        "  c = [0] * n\n",
        "  i = 0\n",
        "\n",
        "  while i < n:\n",
        "      if c[i] < i:\n",
        "          if i % 2 == 0:\n",
        "              letters[0], letters[i] = letters[i], letters[0]\n",
        "          else:\n",
        "              letters[c[i]], letters[i] = letters[i], letters[c[i]]\n",
        "\n",
        "          result.add(''.join(letters))\n",
        "          c[i] += 1\n",
        "          i = 0\n",
        "      else:\n",
        "          c[i] = 0\n",
        "          i += 1\n",
        "\n",
        "  return result"
      ],
      "metadata": {
        "id": "DV7D6RUqOSgz"
      },
      "execution_count": 33,
      "outputs": []
    },
    {
      "cell_type": "code",
      "source": [
        "print(first_implementation(letters))\n",
        "\n",
        "print(second_implementation(letters))\n"
      ],
      "metadata": {
        "colab": {
          "base_uri": "https://localhost:8080/"
        },
        "id": "QWCF3beKPXOJ",
        "outputId": "76834274-f5b9-4426-a0c8-efd6e1fae9fc"
      },
      "execution_count": 34,
      "outputs": [
        {
          "output_type": "stream",
          "name": "stdout",
          "text": [
            "{'aba', 'baa', 'aab'}\n",
            "{'aba', 'baa', 'aab'}\n"
          ]
        }
      ]
    }
  ]
}